{
 "cells": [
  {
   "cell_type": "markdown",
   "metadata": {
    "colab_type": "text"
   },
   "source": [
    "# Character-level recurrent sequence-to-sequence model\n",
    "\n",
    "**Author:** [fchollet](https://twitter.com/fchollet)<br>\n",
    "**Date created:** 2017/09/29<br>\n",
    "**Last modified:** 2020/04/26<br>\n",
    "**Description:** Character-level recurrent sequence-to-sequence model."
   ]
  },
  {
   "cell_type": "markdown",
   "metadata": {
    "colab_type": "text"
   },
   "source": [
    "## Introduction\n",
    "\n",
    "This example demonstrates how to implement a basic character-level\n",
    "recurrent sequence-to-sequence model. We apply it to translating\n",
    "short English sentences into short French sentences,\n",
    "character-by-character. Note that it is fairly unusual to\n",
    "do character-level machine translation, as word-level\n",
    "models are more common in this domain.\n",
    "\n",
    "**Summary of the algorithm**\n",
    "\n",
    "- We start with input sequences from a domain (e.g. English sentences)\n",
    "    and corresponding target sequences from another domain\n",
    "    (e.g. French sentences).\n",
    "- An encoder LSTM turns input sequences to 2 state vectors\n",
    "    (we keep the last LSTM state and discard the outputs).\n",
    "- A decoder LSTM is trained to turn the target sequences into\n",
    "    the same sequence but offset by one timestep in the future,\n",
    "    a training process called \"teacher forcing\" in this context.\n",
    "    It uses as initial state the state vectors from the encoder.\n",
    "    Effectively, the decoder learns to generate `targets[t+1...]`\n",
    "    given `targets[...t]`, conditioned on the input sequence.\n",
    "- In inference mode, when we want to decode unknown input sequences, we:\n",
    "    - Encode the input sequence into state vectors\n",
    "    - Start with a target sequence of size 1\n",
    "        (just the start-of-sequence character)\n",
    "    - Feed the state vectors and 1-char target sequence\n",
    "        to the decoder to produce predictions for the next character\n",
    "    - Sample the next character using these predictions\n",
    "        (we simply use argmax).\n",
    "    - Append the sampled character to the target sequence\n",
    "    - Repeat until we generate the end-of-sequence character or we\n",
    "        hit the character limit.\n"
   ]
  },
  {
   "cell_type": "markdown",
   "metadata": {
    "colab_type": "text"
   },
   "source": [
    "## Setup\n"
   ]
  },
  {
   "cell_type": "code",
   "execution_count": 1,
   "metadata": {
    "colab_type": "code"
   },
   "outputs": [],
   "source": [
    "import numpy as np\n",
    "import tensorflow as tf\n",
    "from tensorflow import keras\n"
   ]
  },
  {
   "cell_type": "markdown",
   "metadata": {
    "colab_type": "text"
   },
   "source": [
    "## Download the data\n"
   ]
  },
  {
   "cell_type": "code",
   "execution_count": null,
   "metadata": {
    "colab_type": "code"
   },
   "outputs": [],
   "source": [
    "!!curl -O http://www.manythings.org/anki/fra-eng.zip\n",
    "!!unzip fra-eng.zip\n"
   ]
  },
  {
   "cell_type": "markdown",
   "metadata": {
    "colab_type": "text"
   },
   "source": [
    "## Configuration\n"
   ]
  },
  {
   "cell_type": "code",
   "execution_count": 2,
   "metadata": {
    "colab_type": "code"
   },
   "outputs": [],
   "source": [
    "batch_size = 64  # Batch size for training.\n",
    "epochs = 100  # Number of epochs to train for.\n",
    "latent_dim = 256  # Latent dimensionality of the encoding space.\n",
    "num_samples = 10000  # Number of samples to train on.\n",
    "# Path to the data txt file on disk.\n",
    "data_path = \"fra.txt\"\n"
   ]
  },
  {
   "cell_type": "markdown",
   "metadata": {
    "colab_type": "text"
   },
   "source": [
    "## Prepare the data\n"
   ]
  },
  {
   "cell_type": "code",
   "execution_count": 4,
   "metadata": {
    "colab_type": "code"
   },
   "outputs": [
    {
     "name": "stdout",
     "output_type": "stream",
     "text": [
      "Number of samples: 10000\n",
      "Number of unique input tokens: 71\n",
      "Number of unique output tokens: 93\n",
      "Max sequence length for inputs: 16\n",
      "Max sequence length for outputs: 59\n"
     ]
    }
   ],
   "source": [
    "# Vectorize the data.\n",
    "input_texts = []\n",
    "target_texts = []\n",
    "input_characters = set()\n",
    "target_characters = set()\n",
    "with open(data_path, \"r\", encoding=\"utf-8\") as f:\n",
    "    lines = f.read().split(\"\\n\")\n",
    "for line in lines[: min(num_samples, len(lines) - 1)]:\n",
    "    input_text, target_text = line.split(\"\\t\")\n",
    "    # We use \"tab\" as the \"start sequence\" character\n",
    "    # for the targets, and \"\\n\" as \"end sequence\" character.\n",
    "    target_text = \"\\t\" + target_text + \"\\n\"\n",
    "    input_texts.append(input_text)\n",
    "    target_texts.append(target_text)\n",
    "    for char in input_text:\n",
    "        if char not in input_characters:\n",
    "            input_characters.add(char)\n",
    "    for char in target_text:\n",
    "        if char not in target_characters:\n",
    "            target_characters.add(char)\n",
    "\n",
    "input_characters = sorted(list(input_characters))\n",
    "target_characters = sorted(list(target_characters))\n",
    "num_encoder_tokens = len(input_characters)\n",
    "num_decoder_tokens = len(target_characters)\n",
    "max_encoder_seq_length = max([len(txt) for txt in input_texts])\n",
    "max_decoder_seq_length = max([len(txt) for txt in target_texts])\n",
    "\n",
    "print(\"Number of samples:\", len(input_texts))\n",
    "print(\"Number of unique input tokens:\", num_encoder_tokens)\n",
    "print(\"Number of unique output tokens:\", num_decoder_tokens)\n",
    "print(\"Max sequence length for inputs:\", max_encoder_seq_length)\n",
    "print(\"Max sequence length for outputs:\", max_decoder_seq_length)\n",
    "\n",
    "input_token_index = dict([(char, i) for i, char in enumerate(input_characters)])\n",
    "target_token_index = dict([(char, i) for i, char in enumerate(target_characters)])\n",
    "\n",
    "encoder_input_data = np.zeros(\n",
    "    (len(input_texts), max_encoder_seq_length, num_encoder_tokens), dtype=\"float32\"\n",
    ")\n",
    "decoder_input_data = np.zeros(\n",
    "    (len(input_texts), max_decoder_seq_length, num_decoder_tokens), dtype=\"float32\"\n",
    ")\n",
    "decoder_target_data = np.zeros(\n",
    "    (len(input_texts), max_decoder_seq_length, num_decoder_tokens), dtype=\"float32\"\n",
    ")\n",
    "\n",
    "for i, (input_text, target_text) in enumerate(zip(input_texts, target_texts)):\n",
    "    for t, char in enumerate(input_text):\n",
    "        encoder_input_data[i, t, input_token_index[char]] = 1.0\n",
    "    encoder_input_data[i, t + 1 :, input_token_index[\" \"]] = 1.0\n",
    "    for t, char in enumerate(target_text):\n",
    "        # decoder_target_data is ahead of decoder_input_data by one timestep\n",
    "        decoder_input_data[i, t, target_token_index[char]] = 1.0\n",
    "        if t > 0:\n",
    "            # decoder_target_data will be ahead by one timestep\n",
    "            # and will not include the start character.\n",
    "            decoder_target_data[i, t - 1, target_token_index[char]] = 1.0\n",
    "    decoder_input_data[i, t + 1 :, target_token_index[\" \"]] = 1.0\n",
    "    decoder_target_data[i, t:, target_token_index[\" \"]] = 1.0\n",
    "    pass"
   ]
  },
  {
   "cell_type": "markdown",
   "metadata": {
    "colab_type": "text"
   },
   "source": [
    "## Build the model\n"
   ]
  },
  {
   "cell_type": "code",
   "execution_count": 5,
   "metadata": {
    "colab_type": "code"
   },
   "outputs": [],
   "source": [
    "# Define an input sequence and process it.\n",
    "encoder_inputs = keras.Input(shape=(None, num_encoder_tokens))\n",
    "encoder = keras.layers.LSTM(latent_dim, return_state=True)\n",
    "encoder_outputs, state_h, state_c = encoder(encoder_inputs)\n",
    "\n",
    "# We discard `encoder_outputs` and only keep the states.\n",
    "encoder_states = [state_h, state_c]\n",
    "\n",
    "# Set up the decoder, using `encoder_states` as initial state.\n",
    "decoder_inputs = keras.Input(shape=(None, num_decoder_tokens))\n",
    "\n",
    "# We set up our decoder to return full output sequences,\n",
    "# and to return internal states as well. We don't use the\n",
    "# return states in the training model, but we will use them in inference.\n",
    "decoder_lstm = keras.layers.LSTM(latent_dim, return_sequences=True, return_state=True)\n",
    "decoder_outputs, _, _ = decoder_lstm(decoder_inputs, initial_state=encoder_states)\n",
    "decoder_dense = keras.layers.Dense(num_decoder_tokens, activation=\"softmax\")\n",
    "decoder_outputs = decoder_dense(decoder_outputs)\n",
    "\n",
    "# Define the model that will turn\n",
    "# `encoder_input_data` & `decoder_input_data` into `decoder_target_data`\n",
    "model = keras.Model([encoder_inputs, decoder_inputs], decoder_outputs)\n"
   ]
  },
  {
   "attachments": {},
   "cell_type": "markdown",
   "metadata": {},
   "source": [
    "## Visualize the model"
   ]
  },
  {
   "cell_type": "code",
   "execution_count": 6,
   "metadata": {},
   "outputs": [
    {
     "data": {
      "image/png": "[encoded data removed]",
      "text/plain": [
       "<IPython.core.display.Image object>"
      ]
     },
     "execution_count": 6,
     "metadata": {},
     "output_type": "execute_result"
    }
   ],
   "source": [
    "keras.utils.plot_model(model, \"lstm_seq2seq.png\", show_shapes=True)"
   ]
  },
  {
   "cell_type": "markdown",
   "metadata": {
    "colab_type": "text"
   },
   "source": [
    "## Train the model\n"
   ]
  },
  {
   "cell_type": "code",
   "execution_count": 7,
   "metadata": {
    "colab_type": "code"
   },
   "outputs": [
    {
     "name": "stdout",
     "output_type": "stream",
     "text": [
      "Epoch 1/100\n",
      "125/125 [==============================] - 9s 25ms/step - loss: 1.2098 - accuracy: 0.7191 - val_loss: 1.1171 - val_accuracy: 0.6950\n",
      "Epoch 2/100\n",
      "125/125 [==============================] - 2s 16ms/step - loss: 0.8632 - accuracy: 0.7644 - val_loss: 0.8836 - val_accuracy: 0.7542\n",
      "Epoch 3/100\n",
      "125/125 [==============================] - 2s 16ms/step - loss: 0.7005 - accuracy: 0.8042 - val_loss: 0.7616 - val_accuracy: 0.7825\n",
      "Epoch 4/100\n",
      "125/125 [==============================] - 2s 16ms/step - loss: 0.6053 - accuracy: 0.8247 - val_loss: 0.7048 - val_accuracy: 0.7934\n",
      "Epoch 5/100\n",
      "125/125 [==============================] - 2s 18ms/step - loss: 0.5537 - accuracy: 0.8382 - val_loss: 0.6688 - val_accuracy: 0.8008\n",
      "Epoch 6/100\n",
      "125/125 [==============================] - 2s 18ms/step - loss: 0.5176 - accuracy: 0.8477 - val_loss: 0.6290 - val_accuracy: 0.8129\n",
      "Epoch 7/100\n",
      "125/125 [==============================] - 2s 16ms/step - loss: 0.4890 - accuracy: 0.8555 - val_loss: 0.6142 - val_accuracy: 0.8183\n",
      "Epoch 8/100\n",
      "125/125 [==============================] - 2s 16ms/step - loss: 0.4646 - accuracy: 0.8620 - val_loss: 0.5862 - val_accuracy: 0.8261\n",
      "Epoch 9/100\n",
      "125/125 [==============================] - 2s 16ms/step - loss: 0.4439 - accuracy: 0.8677 - val_loss: 0.5672 - val_accuracy: 0.8313\n",
      "Epoch 10/100\n",
      "125/125 [==============================] - 2s 16ms/step - loss: 0.4245 - accuracy: 0.8732 - val_loss: 0.5547 - val_accuracy: 0.8358\n",
      "Epoch 11/100\n",
      "125/125 [==============================] - 2s 16ms/step - loss: 0.4071 - accuracy: 0.8781 - val_loss: 0.5422 - val_accuracy: 0.8375\n",
      "Epoch 12/100\n",
      "125/125 [==============================] - 2s 16ms/step - loss: 0.3914 - accuracy: 0.8826 - val_loss: 0.5308 - val_accuracy: 0.8435\n",
      "Epoch 13/100\n",
      "125/125 [==============================] - 2s 16ms/step - loss: 0.3767 - accuracy: 0.8870 - val_loss: 0.5203 - val_accuracy: 0.8456\n",
      "Epoch 14/100\n",
      "125/125 [==============================] - 2s 17ms/step - loss: 0.3628 - accuracy: 0.8911 - val_loss: 0.5143 - val_accuracy: 0.8494\n",
      "Epoch 15/100\n",
      "125/125 [==============================] - 2s 16ms/step - loss: 0.3497 - accuracy: 0.8947 - val_loss: 0.5036 - val_accuracy: 0.8521\n",
      "Epoch 16/100\n",
      "125/125 [==============================] - 2s 17ms/step - loss: 0.3380 - accuracy: 0.8984 - val_loss: 0.5010 - val_accuracy: 0.8533\n",
      "Epoch 17/100\n",
      "125/125 [==============================] - 2s 17ms/step - loss: 0.3259 - accuracy: 0.9020 - val_loss: 0.5005 - val_accuracy: 0.8536\n",
      "Epoch 18/100\n",
      "125/125 [==============================] - 2s 17ms/step - loss: 0.3155 - accuracy: 0.9050 - val_loss: 0.4934 - val_accuracy: 0.8563\n",
      "Epoch 19/100\n",
      "125/125 [==============================] - 2s 16ms/step - loss: 0.3052 - accuracy: 0.9081 - val_loss: 0.4913 - val_accuracy: 0.8579\n",
      "Epoch 20/100\n",
      "125/125 [==============================] - 2s 16ms/step - loss: 0.2950 - accuracy: 0.9112 - val_loss: 0.4925 - val_accuracy: 0.8578\n",
      "Epoch 21/100\n",
      "125/125 [==============================] - 2s 16ms/step - loss: 0.2855 - accuracy: 0.9137 - val_loss: 0.4917 - val_accuracy: 0.8588\n",
      "Epoch 22/100\n",
      "125/125 [==============================] - 2s 16ms/step - loss: 0.2766 - accuracy: 0.9166 - val_loss: 0.4888 - val_accuracy: 0.8589\n",
      "Epoch 23/100\n",
      "125/125 [==============================] - 2s 16ms/step - loss: 0.2678 - accuracy: 0.9190 - val_loss: 0.4905 - val_accuracy: 0.8596\n",
      "Epoch 24/100\n",
      "125/125 [==============================] - 2s 17ms/step - loss: 0.2592 - accuracy: 0.9218 - val_loss: 0.4916 - val_accuracy: 0.8603\n",
      "Epoch 25/100\n",
      "125/125 [==============================] - 2s 16ms/step - loss: 0.2515 - accuracy: 0.9238 - val_loss: 0.4902 - val_accuracy: 0.8613\n",
      "Epoch 26/100\n",
      "125/125 [==============================] - 2s 16ms/step - loss: 0.2438 - accuracy: 0.9259 - val_loss: 0.4919 - val_accuracy: 0.8613\n",
      "Epoch 27/100\n",
      "125/125 [==============================] - 2s 17ms/step - loss: 0.2359 - accuracy: 0.9284 - val_loss: 0.4946 - val_accuracy: 0.8613\n",
      "Epoch 28/100\n",
      "125/125 [==============================] - 2s 16ms/step - loss: 0.2295 - accuracy: 0.9303 - val_loss: 0.4961 - val_accuracy: 0.8618\n",
      "Epoch 29/100\n",
      "125/125 [==============================] - 2s 16ms/step - loss: 0.2216 - accuracy: 0.9323 - val_loss: 0.4987 - val_accuracy: 0.8623\n",
      "Epoch 30/100\n",
      "125/125 [==============================] - 2s 16ms/step - loss: 0.2156 - accuracy: 0.9346 - val_loss: 0.5076 - val_accuracy: 0.8608\n",
      "Epoch 31/100\n",
      "125/125 [==============================] - 2s 16ms/step - loss: 0.2090 - accuracy: 0.9362 - val_loss: 0.5055 - val_accuracy: 0.8627\n",
      "Epoch 32/100\n",
      "125/125 [==============================] - 2s 17ms/step - loss: 0.2026 - accuracy: 0.9382 - val_loss: 0.5124 - val_accuracy: 0.8614\n",
      "Epoch 33/100\n",
      "125/125 [==============================] - 2s 16ms/step - loss: 0.1971 - accuracy: 0.9402 - val_loss: 0.5105 - val_accuracy: 0.8625\n",
      "Epoch 34/100\n",
      "125/125 [==============================] - 2s 16ms/step - loss: 0.1914 - accuracy: 0.9417 - val_loss: 0.5150 - val_accuracy: 0.8627\n",
      "Epoch 35/100\n",
      "125/125 [==============================] - 2s 16ms/step - loss: 0.1855 - accuracy: 0.9437 - val_loss: 0.5239 - val_accuracy: 0.8614\n",
      "Epoch 36/100\n",
      "125/125 [==============================] - 2s 16ms/step - loss: 0.1805 - accuracy: 0.9451 - val_loss: 0.5263 - val_accuracy: 0.8624\n",
      "Epoch 37/100\n",
      "125/125 [==============================] - 2s 17ms/step - loss: 0.1754 - accuracy: 0.9467 - val_loss: 0.5300 - val_accuracy: 0.8626\n",
      "Epoch 38/100\n",
      "125/125 [==============================] - 2s 16ms/step - loss: 0.1702 - accuracy: 0.9480 - val_loss: 0.5373 - val_accuracy: 0.8613\n",
      "Epoch 39/100\n",
      "125/125 [==============================] - 2s 17ms/step - loss: 0.1662 - accuracy: 0.9496 - val_loss: 0.5404 - val_accuracy: 0.8627\n",
      "Epoch 40/100\n",
      "125/125 [==============================] - 2s 17ms/step - loss: 0.1613 - accuracy: 0.9512 - val_loss: 0.5447 - val_accuracy: 0.8626\n",
      "Epoch 41/100\n",
      "125/125 [==============================] - 2s 16ms/step - loss: 0.1574 - accuracy: 0.9520 - val_loss: 0.5464 - val_accuracy: 0.8625\n",
      "Epoch 42/100\n",
      "125/125 [==============================] - 2s 17ms/step - loss: 0.1528 - accuracy: 0.9535 - val_loss: 0.5512 - val_accuracy: 0.8629\n",
      "Epoch 43/100\n",
      "125/125 [==============================] - 2s 16ms/step - loss: 0.1491 - accuracy: 0.9544 - val_loss: 0.5613 - val_accuracy: 0.8625\n",
      "Epoch 44/100\n",
      "125/125 [==============================] - 2s 17ms/step - loss: 0.1451 - accuracy: 0.9557 - val_loss: 0.5665 - val_accuracy: 0.8613\n",
      "Epoch 45/100\n",
      "125/125 [==============================] - 2s 17ms/step - loss: 0.1415 - accuracy: 0.9565 - val_loss: 0.5700 - val_accuracy: 0.8621\n",
      "Epoch 46/100\n",
      "125/125 [==============================] - 2s 17ms/step - loss: 0.1378 - accuracy: 0.9579 - val_loss: 0.5751 - val_accuracy: 0.8620\n",
      "Epoch 47/100\n",
      "125/125 [==============================] - 2s 19ms/step - loss: 0.1343 - accuracy: 0.9590 - val_loss: 0.5832 - val_accuracy: 0.8621\n",
      "Epoch 48/100\n",
      "125/125 [==============================] - 2s 18ms/step - loss: 0.1310 - accuracy: 0.9597 - val_loss: 0.5862 - val_accuracy: 0.8616\n",
      "Epoch 49/100\n",
      "125/125 [==============================] - 3s 22ms/step - loss: 0.1274 - accuracy: 0.9610 - val_loss: 0.5944 - val_accuracy: 0.8619\n",
      "Epoch 50/100\n",
      "125/125 [==============================] - 3s 25ms/step - loss: 0.1247 - accuracy: 0.9616 - val_loss: 0.5986 - val_accuracy: 0.8611\n",
      "Epoch 51/100\n",
      "125/125 [==============================] - 3s 25ms/step - loss: 0.1217 - accuracy: 0.9625 - val_loss: 0.5978 - val_accuracy: 0.8632\n",
      "Epoch 52/100\n",
      "125/125 [==============================] - 3s 21ms/step - loss: 0.1186 - accuracy: 0.9634 - val_loss: 0.6042 - val_accuracy: 0.8624\n",
      "Epoch 53/100\n",
      "125/125 [==============================] - 3s 20ms/step - loss: 0.1156 - accuracy: 0.9644 - val_loss: 0.6167 - val_accuracy: 0.8623\n",
      "Epoch 54/100\n",
      "125/125 [==============================] - 3s 22ms/step - loss: 0.1131 - accuracy: 0.9649 - val_loss: 0.6184 - val_accuracy: 0.8617\n",
      "Epoch 55/100\n",
      "125/125 [==============================] - 2s 19ms/step - loss: 0.1103 - accuracy: 0.9659 - val_loss: 0.6236 - val_accuracy: 0.8617\n",
      "Epoch 56/100\n",
      "125/125 [==============================] - 2s 20ms/step - loss: 0.1079 - accuracy: 0.9664 - val_loss: 0.6226 - val_accuracy: 0.8618\n",
      "Epoch 57/100\n",
      "125/125 [==============================] - 3s 21ms/step - loss: 0.1055 - accuracy: 0.9673 - val_loss: 0.6339 - val_accuracy: 0.8613\n",
      "Epoch 58/100\n",
      "125/125 [==============================] - 2s 19ms/step - loss: 0.1031 - accuracy: 0.9677 - val_loss: 0.6404 - val_accuracy: 0.8607\n",
      "Epoch 59/100\n",
      "125/125 [==============================] - 2s 19ms/step - loss: 0.1009 - accuracy: 0.9684 - val_loss: 0.6483 - val_accuracy: 0.8618\n",
      "Epoch 60/100\n",
      "125/125 [==============================] - 2s 19ms/step - loss: 0.0986 - accuracy: 0.9692 - val_loss: 0.6491 - val_accuracy: 0.8611\n",
      "Epoch 61/100\n",
      "125/125 [==============================] - 2s 19ms/step - loss: 0.0963 - accuracy: 0.9698 - val_loss: 0.6519 - val_accuracy: 0.8616\n",
      "Epoch 62/100\n",
      "125/125 [==============================] - 2s 19ms/step - loss: 0.0941 - accuracy: 0.9705 - val_loss: 0.6582 - val_accuracy: 0.8616\n",
      "Epoch 63/100\n",
      "125/125 [==============================] - 2s 17ms/step - loss: 0.0922 - accuracy: 0.9709 - val_loss: 0.6662 - val_accuracy: 0.8612\n",
      "Epoch 64/100\n",
      "125/125 [==============================] - 2s 17ms/step - loss: 0.0903 - accuracy: 0.9714 - val_loss: 0.6699 - val_accuracy: 0.8618\n",
      "Epoch 65/100\n",
      "125/125 [==============================] - 2s 18ms/step - loss: 0.0882 - accuracy: 0.9719 - val_loss: 0.6723 - val_accuracy: 0.8612\n",
      "Epoch 66/100\n",
      "125/125 [==============================] - 2s 18ms/step - loss: 0.0863 - accuracy: 0.9726 - val_loss: 0.6834 - val_accuracy: 0.8602\n",
      "Epoch 67/100\n",
      "125/125 [==============================] - 2s 18ms/step - loss: 0.0844 - accuracy: 0.9732 - val_loss: 0.6849 - val_accuracy: 0.8607\n",
      "Epoch 68/100\n",
      "125/125 [==============================] - 3s 20ms/step - loss: 0.0826 - accuracy: 0.9737 - val_loss: 0.6911 - val_accuracy: 0.8606\n",
      "Epoch 69/100\n",
      "125/125 [==============================] - 2s 18ms/step - loss: 0.0807 - accuracy: 0.9743 - val_loss: 0.6970 - val_accuracy: 0.8599\n",
      "Epoch 70/100\n",
      "125/125 [==============================] - 2s 19ms/step - loss: 0.0795 - accuracy: 0.9745 - val_loss: 0.7043 - val_accuracy: 0.8602\n",
      "Epoch 71/100\n",
      "125/125 [==============================] - 2s 20ms/step - loss: 0.0779 - accuracy: 0.9749 - val_loss: 0.7050 - val_accuracy: 0.8609\n",
      "Epoch 72/100\n",
      "125/125 [==============================] - 2s 19ms/step - loss: 0.0761 - accuracy: 0.9756 - val_loss: 0.7107 - val_accuracy: 0.8604\n",
      "Epoch 73/100\n",
      "125/125 [==============================] - 2s 17ms/step - loss: 0.0746 - accuracy: 0.9760 - val_loss: 0.7102 - val_accuracy: 0.8606\n",
      "Epoch 74/100\n",
      "125/125 [==============================] - 2s 17ms/step - loss: 0.0732 - accuracy: 0.9765 - val_loss: 0.7183 - val_accuracy: 0.8609\n",
      "Epoch 75/100\n",
      "125/125 [==============================] - 2s 17ms/step - loss: 0.0719 - accuracy: 0.9768 - val_loss: 0.7303 - val_accuracy: 0.8594\n",
      "Epoch 76/100\n",
      "125/125 [==============================] - 2s 18ms/step - loss: 0.0702 - accuracy: 0.9772 - val_loss: 0.7283 - val_accuracy: 0.8602\n",
      "Epoch 77/100\n",
      "125/125 [==============================] - 2s 18ms/step - loss: 0.0690 - accuracy: 0.9776 - val_loss: 0.7358 - val_accuracy: 0.8603\n",
      "Epoch 78/100\n",
      "125/125 [==============================] - 2s 18ms/step - loss: 0.0677 - accuracy: 0.9780 - val_loss: 0.7367 - val_accuracy: 0.8595\n",
      "Epoch 79/100\n",
      "125/125 [==============================] - 2s 18ms/step - loss: 0.0664 - accuracy: 0.9784 - val_loss: 0.7425 - val_accuracy: 0.8599\n",
      "Epoch 80/100\n",
      "125/125 [==============================] - 2s 17ms/step - loss: 0.0653 - accuracy: 0.9787 - val_loss: 0.7492 - val_accuracy: 0.8598\n",
      "Epoch 81/100\n",
      "125/125 [==============================] - 2s 17ms/step - loss: 0.0641 - accuracy: 0.9790 - val_loss: 0.7539 - val_accuracy: 0.8588\n",
      "Epoch 82/100\n",
      "125/125 [==============================] - 2s 17ms/step - loss: 0.0631 - accuracy: 0.9793 - val_loss: 0.7588 - val_accuracy: 0.8600\n",
      "Epoch 83/100\n",
      "125/125 [==============================] - 2s 18ms/step - loss: 0.0622 - accuracy: 0.9795 - val_loss: 0.7625 - val_accuracy: 0.8599\n",
      "Epoch 84/100\n",
      "125/125 [==============================] - 2s 19ms/step - loss: 0.0606 - accuracy: 0.9801 - val_loss: 0.7633 - val_accuracy: 0.8589\n",
      "Epoch 85/100\n",
      "125/125 [==============================] - 2s 18ms/step - loss: 0.0598 - accuracy: 0.9803 - val_loss: 0.7664 - val_accuracy: 0.8595\n",
      "Epoch 86/100\n",
      "125/125 [==============================] - 2s 19ms/step - loss: 0.0586 - accuracy: 0.9807 - val_loss: 0.7763 - val_accuracy: 0.8588\n",
      "Epoch 87/100\n",
      "125/125 [==============================] - 2s 20ms/step - loss: 0.0577 - accuracy: 0.9809 - val_loss: 0.7792 - val_accuracy: 0.8587\n",
      "Epoch 88/100\n",
      "125/125 [==============================] - 2s 18ms/step - loss: 0.0567 - accuracy: 0.9811 - val_loss: 0.7752 - val_accuracy: 0.8601\n",
      "Epoch 89/100\n",
      "125/125 [==============================] - 2s 19ms/step - loss: 0.0560 - accuracy: 0.9813 - val_loss: 0.7881 - val_accuracy: 0.8582\n",
      "Epoch 90/100\n",
      "125/125 [==============================] - 2s 18ms/step - loss: 0.0550 - accuracy: 0.9816 - val_loss: 0.7891 - val_accuracy: 0.8590\n",
      "Epoch 91/100\n",
      "125/125 [==============================] - 2s 19ms/step - loss: 0.0538 - accuracy: 0.9820 - val_loss: 0.7935 - val_accuracy: 0.8590\n",
      "Epoch 92/100\n",
      "125/125 [==============================] - 2s 18ms/step - loss: 0.0529 - accuracy: 0.9821 - val_loss: 0.7990 - val_accuracy: 0.8592\n",
      "Epoch 93/100\n",
      "125/125 [==============================] - 2s 18ms/step - loss: 0.0526 - accuracy: 0.9823 - val_loss: 0.7956 - val_accuracy: 0.8594\n",
      "Epoch 94/100\n",
      "125/125 [==============================] - 2s 17ms/step - loss: 0.0516 - accuracy: 0.9823 - val_loss: 0.8038 - val_accuracy: 0.8582\n",
      "Epoch 95/100\n",
      "125/125 [==============================] - 2s 17ms/step - loss: 0.0508 - accuracy: 0.9830 - val_loss: 0.8064 - val_accuracy: 0.8588\n",
      "Epoch 96/100\n",
      "125/125 [==============================] - 2s 18ms/step - loss: 0.0501 - accuracy: 0.9830 - val_loss: 0.8103 - val_accuracy: 0.8579\n",
      "Epoch 97/100\n",
      "125/125 [==============================] - 2s 18ms/step - loss: 0.0491 - accuracy: 0.9833 - val_loss: 0.8239 - val_accuracy: 0.8580\n",
      "Epoch 98/100\n",
      "125/125 [==============================] - 3s 20ms/step - loss: 0.0486 - accuracy: 0.9833 - val_loss: 0.8216 - val_accuracy: 0.8591\n",
      "Epoch 99/100\n",
      "125/125 [==============================] - 2s 19ms/step - loss: 0.0482 - accuracy: 0.9835 - val_loss: 0.8211 - val_accuracy: 0.8581\n",
      "Epoch 100/100\n",
      "125/125 [==============================] - 3s 24ms/step - loss: 0.0470 - accuracy: 0.9838 - val_loss: 0.8224 - val_accuracy: 0.8587\n"
     ]
    },
    {
     "name": "stderr",
     "output_type": "stream",
     "text": [
      "WARNING:absl:Found untraced functions such as lstm_cell_layer_call_and_return_conditional_losses, lstm_cell_layer_call_fn, lstm_cell_1_layer_call_and_return_conditional_losses, lstm_cell_1_layer_call_fn, lstm_cell_layer_call_fn while saving (showing 5 of 10). These functions will not be directly callable after loading.\n"
     ]
    },
    {
     "name": "stdout",
     "output_type": "stream",
     "text": [
      "INFO:tensorflow:Assets written to: s2s\\assets\n"
     ]
    },
    {
     "name": "stderr",
     "output_type": "stream",
     "text": [
      "INFO:tensorflow:Assets written to: s2s\\assets\n"
     ]
    }
   ],
   "source": [
    "model.compile(\n",
    "    optimizer=\"rmsprop\", loss=\"categorical_crossentropy\", metrics=[\"accuracy\"]\n",
    ")\n",
    "model.fit(\n",
    "    [encoder_input_data, decoder_input_data],\n",
    "    decoder_target_data,\n",
    "    batch_size=batch_size,\n",
    "    epochs=epochs,\n",
    "    validation_split=0.2,\n",
    ")\n",
    "# Save model\n",
    "model.save(\"s2s\")\n"
   ]
  },
  {
   "cell_type": "markdown",
   "metadata": {
    "colab_type": "text"
   },
   "source": [
    "## Run inference (sampling)\n",
    "\n",
    "1. encode input and retrieve initial decoder state\n",
    "2. run one step of decoder with this initial state\n",
    "and a \"start of sequence\" token as target.\n",
    "Output will be the next target token.\n",
    "3. Repeat with the current target token and current states\n"
   ]
  },
  {
   "cell_type": "code",
   "execution_count": 8,
   "metadata": {
    "colab_type": "code"
   },
   "outputs": [],
   "source": [
    "# Define sampling models\n",
    "# Restore the model and construct the encoder and decoder.\n",
    "model = keras.models.load_model(\"s2s\")\n",
    "\n",
    "encoder_inputs = model.input[0]  # input_1\n",
    "encoder_outputs, state_h_enc, state_c_enc = model.layers[2].output  # lstm_1\n",
    "encoder_states = [state_h_enc, state_c_enc]\n",
    "encoder_model = keras.Model(encoder_inputs, encoder_states)\n",
    "\n",
    "decoder_inputs = model.input[1]  # input_2\n",
    "decoder_state_input_h = keras.Input(shape=(latent_dim,))\n",
    "decoder_state_input_c = keras.Input(shape=(latent_dim,))\n",
    "decoder_states_inputs = [decoder_state_input_h, decoder_state_input_c]\n",
    "decoder_lstm = model.layers[3]\n",
    "decoder_outputs, state_h_dec, state_c_dec = decoder_lstm(\n",
    "    decoder_inputs, initial_state=decoder_states_inputs\n",
    ")\n",
    "decoder_states = [state_h_dec, state_c_dec]\n",
    "decoder_dense = model.layers[4]\n",
    "decoder_outputs = decoder_dense(decoder_outputs)\n",
    "decoder_model = keras.Model(\n",
    "    [decoder_inputs] + decoder_states_inputs, [decoder_outputs] + decoder_states\n",
    ")\n",
    "\n",
    "# Reverse-lookup token index to decode sequences back to\n",
    "# something readable.\n",
    "reverse_input_char_index = dict((i, char) for char, i in input_token_index.items())\n",
    "reverse_target_char_index = dict((i, char) for char, i in target_token_index.items())\n",
    "\n",
    "\n",
    "def decode_sequence(input_seq):\n",
    "    # Encode the input as state vectors.\n",
    "    states_value = encoder_model.predict(input_seq)\n",
    "\n",
    "    # Generate empty target sequence of length 1.\n",
    "    target_seq = np.zeros((1, 1, num_decoder_tokens))\n",
    "    # Populate the first character of target sequence with the start character.\n",
    "    target_seq[0, 0, target_token_index[\"\\t\"]] = 1.0\n",
    "\n",
    "    # Sampling loop for a batch of sequences\n",
    "    # (to simplify, here we assume a batch of size 1).\n",
    "    stop_condition = False\n",
    "    decoded_sentence = \"\"\n",
    "    while not stop_condition:\n",
    "        output_tokens, h, c = decoder_model.predict([target_seq] + states_value)\n",
    "\n",
    "        # Sample a token\n",
    "        sampled_token_index = np.argmax(output_tokens[0, -1, :])\n",
    "        sampled_char = reverse_target_char_index[sampled_token_index]\n",
    "        decoded_sentence += sampled_char\n",
    "\n",
    "        # Exit condition: either hit max length\n",
    "        # or find stop character.\n",
    "        if sampled_char == \"\\n\" or len(decoded_sentence) > max_decoder_seq_length:\n",
    "            stop_condition = True\n",
    "\n",
    "        # Update the target sequence (of length 1).\n",
    "        target_seq = np.zeros((1, 1, num_decoder_tokens))\n",
    "        target_seq[0, 0, sampled_token_index] = 1.0\n",
    "\n",
    "        # Update states\n",
    "        states_value = [h, c]\n",
    "    return decoded_sentence\n",
    "\n"
   ]
  },
  {
   "cell_type": "code",
   "execution_count": 9,
   "metadata": {},
   "outputs": [
    {
     "data": {
      "image/png": "[encoded data removed]",
      "text/plain": [
       "<IPython.core.display.Image object>"
      ]
     },
     "execution_count": 9,
     "metadata": {},
     "output_type": "execute_result"
    }
   ],
   "source": [
    "# visualize encoder_model\n",
    "keras.utils.plot_model(encoder_model, \"encoder_model.png\", show_shapes=True)"
   ]
  },
  {
   "cell_type": "code",
   "execution_count": 10,
   "metadata": {},
   "outputs": [
    {
     "data": {
      "image/png": "[encoded data removed]",
      "text/plain": [
       "<IPython.core.display.Image object>"
      ]
     },
     "execution_count": 10,
     "metadata": {},
     "output_type": "execute_result"
    }
   ],
   "source": [
    "# visualize decoder_model\n",
    "keras.utils.plot_model(decoder_model, \"decoder_model.png\", show_shapes=True)"
   ]
  },
  {
   "cell_type": "markdown",
   "metadata": {
    "colab_type": "text"
   },
   "source": [
    "You can now generate decoded sentences as such:\n"
   ]
  },
  {
   "cell_type": "code",
   "execution_count": 11,
   "metadata": {
    "colab_type": "code"
   },
   "outputs": [
    {
     "name": "stdout",
     "output_type": "stream",
     "text": [
      "-\n",
      "Input sentence: Go.\n",
      "Decoded sentence: Al es !\n",
      "\n",
      "-\n",
      "Input sentence: Run!\n",
      "Decoded sentence: Cours !\n",
      "\n",
      "-\n",
      "Input sentence: Run!\n",
      "Decoded sentence: Cours !\n",
      "\n",
      "-\n",
      "Input sentence: Wow!\n",
      "Decoded sentence: Ça alors !\n",
      "\n",
      "-\n",
      "Input sentence: Fire!\n",
      "Decoded sentence: Au feu !\n",
      "\n",
      "-\n",
      "Input sentence: Help!\n",
      "Decoded sentence: Aite-moi !\n",
      "\n",
      "-\n",
      "Input sentence: Jump.\n",
      "Decoded sentence: Saute.\n",
      "\n",
      "-\n",
      "Input sentence: Stop!\n",
      "Decoded sentence: Arrête-toi !\n",
      "\n",
      "-\n",
      "Input sentence: Stop!\n",
      "Decoded sentence: Arrête-toi !\n",
      "\n",
      "-\n",
      "Input sentence: Stop!\n",
      "Decoded sentence: Arrête-toi !\n",
      "\n",
      "-\n",
      "Input sentence: Wait!\n",
      "Decoded sentence: Attendez !\n",
      "\n",
      "-\n",
      "Input sentence: Wait!\n",
      "Decoded sentence: Attendez !\n",
      "\n",
      "-\n",
      "Input sentence: I see.\n",
      "Decoded sentence: Je comprends.\n",
      "\n",
      "-\n",
      "Input sentence: I try.\n",
      "Decoded sentence: J'essaye.\n",
      "\n",
      "-\n",
      "Input sentence: I won!\n",
      "Decoded sentence: J'ai gagné !\n",
      "\n",
      "-\n",
      "Input sentence: I won!\n",
      "Decoded sentence: J'ai gagné !\n",
      "\n",
      "-\n",
      "Input sentence: Oh no!\n",
      "Decoded sentence: Oh non !\n",
      "\n",
      "-\n",
      "Input sentence: Attack!\n",
      "Decoded sentence: Attaque !\n",
      "\n",
      "-\n",
      "Input sentence: Attack!\n",
      "Decoded sentence: Attaque !\n",
      "\n",
      "-\n",
      "Input sentence: Cheers!\n",
      "Decoded sentence: Tchin-tchin !\n",
      "\n"
     ]
    }
   ],
   "source": [
    "for seq_index in range(20):\n",
    "    # Take one sequence (part of the training set)\n",
    "    # for trying out decoding.\n",
    "    input_seq = encoder_input_data[seq_index : seq_index + 1]\n",
    "    decoded_sentence = decode_sequence(input_seq)\n",
    "    print(\"-\")\n",
    "    print(\"Input sentence:\", input_texts[seq_index])\n",
    "    print(\"Decoded sentence:\", decoded_sentence)\n"
   ]
  },
  {
   "cell_type": "code",
   "execution_count": 12,
   "metadata": {},
   "outputs": [],
   "source": [
    "def translate(input_text):\n",
    "    input_seq = np.zeros((1, max_encoder_seq_length, num_encoder_tokens), dtype=\"float32\")\n",
    "    for t, char in enumerate(input_text):\n",
    "        input_seq[0, t, input_token_index[char]] = 1.0\n",
    "    decoded_sentence = decode_sequence(input_seq)\n",
    "    return decoded_sentence"
   ]
  },
  {
   "cell_type": "code",
   "execution_count": 19,
   "metadata": {},
   "outputs": [
    {
     "name": "stdout",
     "output_type": "stream",
     "text": [
      "input text: I am a student\n",
      "translated text: Je suis désolée.\n",
      "\n",
      "\n",
      "input text: I am a woman\n",
      "translated text: Je suis un met bien.\n",
      "\n",
      "\n",
      "input text: How are you?\n",
      "translated text: Comment va vous ?\n",
      "\n",
      "\n",
      "input text: Where are you?\n",
      "translated text: Où es-tu ?\n",
      "\n",
      "\n",
      "input text: is she a fine?\n",
      "translated text: Est-ce que je l'ai estir ?\n",
      "\n",
      "\n",
      "input text: Where is she?\n",
      "translated text: Où est-elle ?\n",
      "\n",
      "\n",
      "input text: How is she?\n",
      "translated text: Comment vettent ?\n",
      "\n",
      "\n",
      "input text: Give it to me\n",
      "translated text: Donne-le-moi.\n",
      "\n",
      "\n",
      "input text: Show me how\n",
      "translated text: Montrez-nous derrerder ?\n",
      "\n",
      "\n",
      "input text: I can do it\n",
      "translated text: Je peux le faire !\n",
      "\n",
      "\n",
      "input text: Who is this?\n",
      "translated text: Qui est aureux ?\n",
      "\n",
      "\n"
     ]
    }
   ],
   "source": [
    "test_data = [\n",
    "    \"I am a student\",\n",
    "    \"I am a woman\",\n",
    "    \"How are you?\",\n",
    "    \"Where are you?\",\n",
    "    \"is she a fine?\",\n",
    "    \"Where is she?\",\n",
    "    \"How is she?\",\n",
    "    \"Give it to me\",\n",
    "    \"Show me how\",\n",
    "    \"I can do it\",\n",
    "    \"Who is this?\"\n",
    "]\n",
    "\n",
    "for input_text in test_data:\n",
    "    print(\"input text:\", input_text)\n",
    "    print(\"translated text:\", translate(input_text))\n",
    "    print()\n"
   ]
  }
 ],
 "metadata": {
  "accelerator": "GPU",
  "colab": {
   "collapsed_sections": [],
   "name": "lstm_seq2seq",
   "private_outputs": false,
   "provenance": [],
   "toc_visible": true
  },
  "kernelspec": {
   "display_name": "Python 3",
   "language": "python",
   "name": "python3"
  },
  "language_info": {
   "codemirror_mode": {
    "name": "ipython",
    "version": 3
   },
   "file_extension": ".py",
   "mimetype": "text/x-python",
   "name": "python",
   "nbconvert_exporter": "python",
   "pygments_lexer": "ipython3",
   "version": "3.9.16"
  }
 },
 "nbformat": 4,
 "nbformat_minor": 0
}
